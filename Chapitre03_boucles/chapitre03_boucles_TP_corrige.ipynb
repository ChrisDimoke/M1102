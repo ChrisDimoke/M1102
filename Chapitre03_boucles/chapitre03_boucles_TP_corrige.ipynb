{
 "cells": [
  {
   "cell_type": "markdown",
   "metadata": {},
   "source": [
    "# <center>Chapitre 3 : Boucles simples - TP corrigé</center>"
   ]
  },
  {
   "cell_type": "markdown",
   "metadata": {},
   "source": [
    "## Exercice 1 : Trace de programme*\n",
    "1. Donner la trace du programme, c'est-à-dire l'affichage qui sera obtenu par l'exécution du programme. \n",
    "2. Exécuter ensuite ce programme avec Python Tutor. Suivre pas à pas l'exécution du programme pour comprendre son fonctionnement. Vérifier que l'affichage obtenu est celui prédit."
   ]
  },
  {
   "cell_type": "code",
   "execution_count": 1,
   "metadata": {},
   "outputs": [],
   "source": [
    "%load_ext tutormagic"
   ]
  },
  {
   "cell_type": "code",
   "execution_count": null,
   "metadata": {},
   "outputs": [],
   "source": [
    "%%tutor -r -l python3 # Lorsque ce code est exécuté, une  pythontutor s'ouvre dans le notebook\n",
    "i = 10\n",
    "nb = 1\n",
    "while i < 5 :\n",
    "    i += 1\n",
    "    nb += 2 * i\n",
    "print ('nb = ' +  str(nb))"
   ]
  },
  {
   "cell_type": "markdown",
   "metadata": {},
   "source": [
    "Même question lorsque la première instruction est respectivement remplacée par l'instruction `i = 0` et `i = 3`."
   ]
  },
  {
   "cell_type": "markdown",
   "metadata": {},
   "source": [
    "** CORRECTION : ** \n",
    "On obtient l'affichage suivant :\n",
    "- Pour `i = 10`, on a `nb = 1`\n",
    "- Pour `i = 0`, on a `nb = 31`\n",
    "- Pour `i = 3`, on a `nb = 19`"
   ]
  },
  {
   "cell_type": "markdown",
   "metadata": {},
   "source": [
    "## Exercice 2 : Trace de programme**\n",
    "Donner la trace du programme, c'est-à-dire l'affichage qui sera obtenu par l'exécution du programme. "
   ]
  },
  {
   "cell_type": "code",
   "execution_count": null,
   "metadata": {},
   "outputs": [],
   "source": [
    "i = 12\n",
    "j = 43\n",
    "print ('i = ' +  str(i) + ', j = ' + str(j))\n",
    "while i<25 and j > 3 * i :\n",
    "    i += 3\n",
    "    j -=  i - 18 \n",
    "    print ('i = ' +  str(i) + ', j = ' + str(j))"
   ]
  },
  {
   "cell_type": "markdown",
   "metadata": {},
   "source": [
    "** CORRECTION : ** \n",
    "On obtient \n",
    "```\n",
    "i = 12, j = 43\n",
    "i = 15, j = 46\n",
    "i = 18, j = 46\n",
    "```"
   ]
  },
  {
   "cell_type": "markdown",
   "metadata": {},
   "source": [
    "## Exercice 3 : Factorielle**\n",
    "Ecrire un programme permettant de calculer la factorielle d'un nombre saisi par l'utilisateur. \n",
    "\n",
    "**Rappel :** si `n`  est un entier positif, alors la *factorielle* de $n$, notée $n!$, est égale à : $$n! = n \\times (n-1) \\times (n -2) \\times \\dots \\times 2 \\times 1$$ Par convention, $0! = 1$."
   ]
  },
  {
   "cell_type": "code",
   "execution_count": 2,
   "metadata": {},
   "outputs": [
    {
     "data": {
      "text/html": [
       "<div class=\"text-center\"><strong><a style=\"box-sizing: border-box; padding: 0 5px; border: 1px solid #CFCFCF;\" target=\"_\" href=http://pythontutor.com/iframe-embed.html#code=%23------------------------------%23%0A%23%20%20%20%20CORRECTION%20%20%21%20%21%20%21%20%21%20%21%20%21%20%20%20%23%0A%23------------------------------%23%0A%23Saisie%20d%27un%20nombre%20positif%20ou%20nul%0Aprint%20%28%27Saisissez%20un%20nombre%20positif%20ou%20nul%27%29%0Anb%20%3D%20int%28input%28%29%29%0Awhile%20nb%20%3C%200%20%3A%20%0A%20%20%20%20print%20%28%27Saisissez%20un%20nombre%20positif%20ou%20nul%27%29%0A%20%20%20%20nb%20%3D%20input%28%29%0A%23Si%20le%20nombre%20saisi%20vaut%200%2C%20alors%20la%20factorielle%20vaut%201%0Aif%20nb%3D%3D0%20%3A%20%0A%20%20%20%20print%28%270%21%20%3D%201%27%29%0Aelse%20%3A%20%0A%20%20%20%20%23Comme%20on%20modifie%20par%20la%20suite%20nb%2C%20on%20utilise%20une%20variable%20pour%20stocker%20la%20valeur%20%0A%20%20%20%20%23du%20nombre%20sous%20forme%20de%20chaine%20de%20caracteres%20pour%20l%27affichage%20final%0A%20%20%20%20chaine%20%3D%20str%28nb%29%20%2B%20%27%21%20%3D%20%27%20%0A%20%20%20%20res%20%3D%201%0A%20%20%20%20while%20nb%20%3E%201%20%3A%0A%20%20%20%20%20%20%20%20res%20%2A%3Dnb%0A%20%20%20%20%20%20%20%20nb%20-%3D%201%0A%20%20%20%20print%20%28chaine%20%2B%20str%28res%29%29&origin=opt-frontend.js&cumulative=false&heapPrimitives=false&textReferences=false&curInstr=0&&verticalStack=false&py=3&rawInputLstJSON=%5B%5D&codeDivWidth=50%25&codeDivHeight=100%25>Python Tutor</a></strong></div>"
      ],
      "text/plain": [
       "<IPython.core.display.HTML object>"
      ]
     },
     "metadata": {},
     "output_type": "display_data"
    }
   ],
   "source": [
    "%%tutor -k\n",
    "#------------------------------#\n",
    "#    CORRECTION  ! ! ! ! ! !   #\n",
    "#------------------------------#\n",
    "#Saisie d'un nombre positif ou nul\n",
    "print ('Saisissez un nombre positif ou nul')\n",
    "nb = int(input())\n",
    "while nb < 0 : \n",
    "    print ('Saisissez un nombre positif ou nul')\n",
    "    nb = input()\n",
    "#Si le nombre saisi vaut 0, alors la factorielle vaut 1\n",
    "if nb==0 : \n",
    "    print('0! = 1')\n",
    "else : \n",
    "    #Comme on modifie par la suite nb, on utilise une variable pour stocker la valeur \n",
    "    #du nombre sous forme de chaine de caracteres pour l'affichage final\n",
    "    chaine = str(nb) + '! = ' \n",
    "    res = 1\n",
    "    while nb > 1 :\n",
    "        res *=nb\n",
    "        nb -= 1\n",
    "    print (chaine + str(res))"
   ]
  },
  {
   "cell_type": "markdown",
   "metadata": {},
   "source": [
    " ## Exercice 4 : Calcul d'intérêts*\n",
    "Soit un compte bancaire permettant de placer son argent à taux fixe.\n",
    "Définissez un programme permettant :\n",
    "\n",
    "- de saisir le taux d'intérêt annuel du compte,\n",
    "- de saisir une somme initiale placée sur le compte,\n",
    "- de saisir la durée en année du placement.\n",
    "\n",
    "Autrement dit, quand la somme sur le compte en banque est 100 euros et le taux d'intérêt annuel du compte est de 10%,  la somme disponible sur le compte est 100 \\* (1+10/100)= 110&euro; au bout d'une année et 110 \\* (1+10/100)= 121&euro; au bout de deux années.\n",
    "\n",
    "Le programme calculera et affichera le solde du compte à l'issue de la durée du placement.\n",
    "\n",
    "** Attention :** Il est possible d'arrondir des valeur grâce à la fonction 'round(nombre[, nbdigits])' \n",
    "Si `nbdigits` n'est pas fourni, le résultat est l'entier le plus proche de 'nombre' \n",
    "Si `nbdigits` est fourni, le résultat est le flottant arrondi au plus proche selon le nombre de chiffre donné par `nbdigits`. Ainsi"
   ]
  },
  {
   "cell_type": "code",
   "execution_count": null,
   "metadata": {},
   "outputs": [],
   "source": [
    "print(round(5.0034))     # affiche 5\n",
    "print(round(5.1174, 2))  # affiche 5.12"
   ]
  },
  {
   "cell_type": "code",
   "execution_count": null,
   "metadata": {},
   "outputs": [],
   "source": [
    "#------------------------------#\n",
    "#    CORRECTION  ! ! ! ! ! !   #\n",
    "#------------------------------#\n",
    "# pour utiliser un codage utf8 \n",
    "#!/usr/bin/env python\n",
    "# -*- coding: utf-8 -*-\n",
    "\n",
    "print(\"Saisir le taux d'interet (%):\") \n",
    "taux=float(input())\n",
    "print(\"Saisir la somme du depot initial:\") ;\n",
    "somme=float(input())\n",
    "print(\"Saisir la durée du placement:\") ;\n",
    "duree=float(input())\n",
    "\n",
    "while duree > 0 :\n",
    "    somme = somme * (1 + taux / 100) \n",
    "    print(somme)\n",
    "    duree -=1 \n",
    "print(\"Somme à l'issue du placement = \" + str(somme)) "
   ]
  },
  {
   "cell_type": "markdown",
   "metadata": {},
   "source": [
    "## Exercice 5 : Calcul du modulo sans l'opérateur module (%)**\n",
    "On souhaite écrire un algorithme qui affiche si un nombre entier est divisible ou non par un autre. Quelque soit l'ordre de saisie des arguments, on cherchera toujours à savoir si le plus grand nombre est divisible par le plus petit. Les deux nombres seront fournis par l'utilisateur.\n",
    "\n",
    "*Vous ne devrez pas utiliser l'opérateur modulo (`%`), mais la méthode des soustractions successives.\n",
    "\n",
    "*Exemple :* Si `a = 6` et `b = 2`, ou `a=2` et `b=6`, on appliquera la méthode suivante :\n",
    "\n",
    "-  `6 -2 = 4`<br>\n",
    "- `4 - 2 = 2`<br>\n",
    "- `2 - 2 = 0`<br>\n",
    "(c'est fini car je ne peux plus soustraire 2 à 0).<br>\n",
    "Donc 6 est divisible par 2 (car la dernière soustraction permet d'obtenir un 0).\n",
    "\n",
    "*Exemple :* Si `a = 7` et `b = 3`, ou `a=3` et `b=7`, on appliquera la méthode :\n",
    "\n",
    "`7 - 3 = 4`<br>\n",
    "`4 - 3 = 1` <br> \n",
    "(c'est fini car je ne peux plus soustraire 3 à 1)<br>\n",
    "Donc 7 n'est pas divisible par 3 (car la dernière soustraction ne permet pas d'obtenir un 0)."
   ]
  },
  {
   "cell_type": "code",
   "execution_count": null,
   "metadata": {},
   "outputs": [],
   "source": [
    "print(\"Entrez un premier nombre :\")\n",
    "nbA=int(input())\n",
    "print(\"Entrez un deuxième nombre :\");\n",
    "nbB=int(input())\n",
    "\n",
    "if nbA<nbB :\n",
    "    tmp = nbA\n",
    "    nbA = nbB\n",
    "    nbB = tmp\n",
    "\n",
    "while (nbA - nbB) >= 0 :\n",
    "    nbA -= nbB;\n",
    "\n",
    "if nbA == 0 :\n",
    "    print(\"L'un des deux nombres divise l'autre\\n\");\n",
    "else :\n",
    "    print(\"Aucun des deux nombres n'est un diviseur de l'autre\\n\");"
   ]
  },
  {
   "cell_type": "markdown",
   "metadata": {},
   "source": [
    "## Exercice 6 : Carrés et cubes*\n",
    "Ecrire un programme qui, pour tout entier compris entre 1 et 10, affiche sur une même ligne, les valeurs de cet entier, de son carré et de son cube. L'affichage doit donc être équivalent à :\n",
    "```\n",
    " 1   1    1\n",
    " 2   4    8\n",
    " 3   9   27\n",
    " 4  16   64\n",
    " 5  25  125\n",
    " 6  36  216\n",
    " 7  49  343\n",
    " 8  64  512\n",
    " 9  81  729\n",
    "10 100 1000\n",
    "```\n",
    "Afin d'obtenir l'affichage correct, il est possible de         spécifier en python le nombre de caractères à utiliser pour afficher une chaîne de caractères, cette chaîne étant alors     justifiée à droite. Pour cela, il suffit d'utiliser l'instruction `str.rjust(n)` où `str` est une chaîne     de caractères et `n` est le nombre de caractères à utiliser pour l'affichage de `str`. Afin de pouvoir utiliser cette instruction, il est nécessaire d'ajouter en début de programme l'instruction `from string import *`. A titre d'exemple :"
   ]
  },
  {
   "cell_type": "code",
   "execution_count": 3,
   "metadata": {},
   "outputs": [
    {
     "name": "stdout",
     "output_type": "stream",
     "text": [
      "x\n",
      " x\n",
      "  x\n",
      "  1\n",
      " 10\n",
      "100\n"
     ]
    }
   ],
   "source": [
    "from string import *\n",
    "uneVar = 'x'\n",
    "print ('x')\n",
    "print (uneVar.rjust(2)) # il est aussi possible d'écrire 'x'.rjust(2) \n",
    "print (uneVar.rjust(3))\n",
    "nb = 1\n",
    "print (str(nb).rjust(3))\n",
    "nb = 10\n",
    "print (str(nb).rjust(3))\n",
    "nb = 100\n",
    "print (str(nb))"
   ]
  },
  {
   "cell_type": "code",
   "execution_count": 4,
   "metadata": {},
   "outputs": [
    {
     "name": "stdout",
     "output_type": "stream",
     "text": [
      " 1   1    1\n",
      " 2   4    8\n",
      " 3   9   27\n",
      " 4  16   64\n",
      " 5  25  125\n",
      " 6  36  216\n",
      " 7  49  343\n",
      " 8  64  512\n",
      " 9  81  729\n",
      "10 100 1000\n"
     ]
    }
   ],
   "source": [
    "#------------------------------#\n",
    "#    CORRECTION  ! ! ! ! ! !   #\n",
    "#------------------------------#\n",
    "from string import *\n",
    "x = 1\n",
    "while x < 11 :\n",
    "    print (str(x).rjust(2) + ' ' + str(x*x).rjust(3) + ' ' + str(x*x*x).rjust(4))\n",
    "    x += 1"
   ]
  },
  {
   "cell_type": "markdown",
   "metadata": {},
   "source": [
    "## Exercice 7 - Diagonale d'étoiles*\n",
    "\n",
    "En utilisant l'instruction `uneVar.rjust(n)` expliquée précédemment, écrire un programme reproduisant l'affichage suivant : \n",
    "```\n",
    " *\n",
    "   *\n",
    "     *\n",
    "       *\n",
    "         *\n",
    "           *\n",
    "             *\n",
    "               *\n",
    "                 *\n",
    "                   *\n",
    "                     *\n",
    "```"
   ]
  },
  {
   "cell_type": "code",
   "execution_count": 7,
   "metadata": {},
   "outputs": [
    {
     "name": "stdout",
     "output_type": "stream",
     "text": [
      " *\n",
      "   *\n",
      "     *\n",
      "       *\n",
      "         *\n",
      "           *\n",
      "             *\n",
      "               *\n",
      "                 *\n",
      "                   *\n",
      "                     *\n"
     ]
    }
   ],
   "source": [
    "from string import *\n",
    "print\n",
    "i = 1\n",
    "while i < 12 :\n",
    "    print ('*'.rjust(2*i))\n",
    "    i+=1"
   ]
  },
  {
   "cell_type": "markdown",
   "metadata": {},
   "source": [
    "### Exercice 8 : Utilisation de `turtle` (la *tortue*)**\n",
    "\n",
    "Le module Turtle permet de dessiner à l'écran des figures. Afin de pouvoir utiliser ce module, il faut ajouter, en début de programme, l'instruction : `from turtle import *`. On peut alors utiliser les instructions suivantes pour dessiner :\n",
    "- `goto(x,y)` : aller à l'endroit de coordonnées x et y,\n",
    "- `forward(distance)` : avancer d'une distance donnée,\n",
    "- `up()`  : relever le crayon (pour pouvoir avancer sans dessiner),\n",
    "- `down()` : abaisser le crayon (pour pouvoir recommencer à dessiner),\n",
    "- `left(angle)` : tourner à gauche d'un angle donné (exprimé en degré),\n",
    "- `right(angle)` : tourner à droite.\t\n",
    "- `done()` : pour terminer un programme graphique utilisant `turtle`. ** Attention :** La fenêtre graphique reste ouverte jusqu'à ce qu'une action de l'utilisateur la ferme ! \n",
    "\n",
    "A titre d'exemple, regarder ce que donne le code : "
   ]
  },
  {
   "cell_type": "code",
   "execution_count": null,
   "metadata": {},
   "outputs": [],
   "source": [
    "from turtle import *\n",
    "forward(100)\n",
    "left(90)\n",
    "forward(50)\n",
    "goto(0, 0)\n",
    "done()"
   ]
  },
  {
   "cell_type": "markdown",
   "metadata": {},
   "source": [
    "Reproduire à l'aide du module `turtle` les figures ci-dessous.   \n",
    " <img src=\"figuresTurtle3.png\" alt=\"Dessins\"  width=\"300px\"/> \t"
   ]
  },
  {
   "cell_type": "code",
   "execution_count": 8,
   "metadata": {},
   "outputs": [],
   "source": [
    "#------------------------------#\n",
    "#    CORRECTION  ! ! ! ! ! !   #\n",
    "#------------------------------#\n",
    "#Dessin : escalier\n",
    "longueur = 20\n",
    "from turtle import *\n",
    "i = 0\n",
    "while i < 10 : \n",
    "    forward(longueur)\n",
    "    left(90)\n",
    "    forward(longueur)\n",
    "    right(90)\n",
    "    i+=1\n",
    "done()"
   ]
  },
  {
   "cell_type": "code",
   "execution_count": null,
   "metadata": {},
   "outputs": [],
   "source": [
    "#Dessin : double escalier\n",
    "longueur = 20\n",
    "from turtle import *\n",
    "i = 0\n",
    "while i < 5 : \n",
    "    forward(longueur)\n",
    "    left(90)\n",
    "    forward(longueur)\n",
    "    right(90)\n",
    "    i+=1\n",
    "while i > 0 : \n",
    "    forward(longueur)\n",
    "    right(90)\n",
    "    forward(longueur)\n",
    "    left(90)\n",
    "    i -= 1\n",
    "forward(longueur)\n",
    "done()"
   ]
  },
  {
   "cell_type": "code",
   "execution_count": null,
   "metadata": {},
   "outputs": [],
   "source": [
    "#Dessin : spirale \"carree\"\n",
    "larg = 10\n",
    "while larg <200 : \n",
    "    forward(larg)\n",
    "    left(90)\n",
    "    larg += 10\n",
    "done()"
   ]
  },
  {
   "cell_type": "code",
   "execution_count": null,
   "metadata": {},
   "outputs": [],
   "source": [
    "#Dessin : spirale \"rectangulaire\"\n",
    "from turtle import *\n",
    "larg = 10\n",
    "while larg < 100 :\n",
    "    forward(larg)\n",
    "    left(90)\n",
    "    forward(2 * larg)\n",
    "    left(90)\n",
    "    larg+=10\n",
    "done()"
   ]
  },
  {
   "cell_type": "markdown",
   "metadata": {},
   "source": [
    "### Exercice 9 : Polygones\\*\\*\\*\n",
    "Ecrire un programme demandant un nombre compris entre 3 et 10 à l'utilisateur et affichant, à l'aide du module `turtle`, un polygone ayant un nombre de côtés égal à la valeur saisie par l'utilisateur. La longueur des côtés pourra être fixée ou choisie par l'utilisateur."
   ]
  },
  {
   "cell_type": "markdown",
   "metadata": {},
   "source": [
    " ** CORRECTION : **       \n",
    " On suppose que le côté d'un polygone est de longueur fixée (dans l'exemple 80). Pour dessiner le polygone, nous devons alors effectuer les instructions \"avancer de 80\" puis \"tournerà gauche selon un certain angle\" autant de fois que la valeur saisie par l'utilisateur. La difficulté provient ici du fait que l'angle dépend du polygone. Comme on fait un tour (la direction du curseur est la même avant et après le dessin du polygone), on tourne au final de 360°. Comme le polygone est régulier, les angles sont tous égaux et leur somme est égale à 360°."
   ]
  },
  {
   "cell_type": "code",
   "execution_count": null,
   "metadata": {},
   "outputs": [],
   "source": [
    "from turtle import *\n",
    "longueur=80\n",
    "nbCotes = int(input('Saisissez le nombre de cotes du polygone (entre 3 et 10)?'))\n",
    "while nbCotes > 10 or nbCotes < 3 :\n",
    "    nbCotes = int(input('Saisissez le nombre de cotes du polygone (entre 3 et 10)?'))\n",
    "degre = 360 / nbCotes\n",
    "i = 0\n",
    "while i < nbCotes : \n",
    "    forward(longueur)\n",
    "    left(degre)\n",
    "    i+=1\n",
    "done()"
   ]
  }
 ],
 "metadata": {
  "kernelspec": {
   "display_name": "Python 3",
   "language": "python",
   "name": "python3"
  },
  "language_info": {
   "codemirror_mode": {
    "name": "ipython",
    "version": 3
   },
   "file_extension": ".py",
   "mimetype": "text/x-python",
   "name": "python",
   "nbconvert_exporter": "python",
   "pygments_lexer": "ipython3",
   "version": "3.7.0"
  },
  "toc": {
   "base_numbering": 1,
   "nav_menu": {},
   "number_sections": true,
   "sideBar": true,
   "skip_h1_title": false,
   "title_cell": "Table of Contents",
   "title_sidebar": "Contents",
   "toc_cell": false,
   "toc_position": {},
   "toc_section_display": true,
   "toc_window_display": false
  }
 },
 "nbformat": 4,
 "nbformat_minor": 2
}
