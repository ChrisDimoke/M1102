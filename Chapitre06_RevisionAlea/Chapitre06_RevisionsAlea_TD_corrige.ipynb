{
 "cells": [
  {
   "cell_type": "markdown",
   "metadata": {},
   "source": [
    "# <center>Nombres aléatoires en informatique - TD (Corrigé)</center>"
   ]
  },
  {
   "cell_type": "markdown",
   "metadata": {},
   "source": [
    "## Exercice 1 : Lancer de dés*\n",
    "\n",
    "Le but de cet exercice est de créer des fonctions permettant de simuler des lancers de dés. Lancer un dé correspond, d'un point de vue informatique, à tirer un entier aléatoire entre 1 et 6 inclus.\n",
    "\n",
    "### Question 1 : Lancer d'un dé \n",
    "Créer une fonction qui simule le lancer d'un dé et renvoie le résultat. "
   ]
  },
  {
   "cell_type": "code",
   "execution_count": null,
   "metadata": {},
   "outputs": [],
   "source": [
    "#------------------------------#\n",
    "#    CORRECTION  ! ! ! ! ! !   #\n",
    "#------------------------------#\n",
    "from random import *\n",
    "def lancerDe():\n",
    "    return randint(1,6)\n",
    "\n",
    "#appel de la fonction\n",
    "print(lancerDe())"
   ]
  },
  {
   "cell_type": "markdown",
   "metadata": {},
   "source": [
    "### Question 2 :   Lancer d'un nombre quelconque de dés \n",
    "Créer une fonction qui simule le lancer d'un nombre quelconque de dés donné en paramètre et renvoie leur somme. Utiliser cette fonction pour afficher le résultat d'un lancer de deux dés puis de trois dés."
   ]
  },
  {
   "cell_type": "code",
   "execution_count": null,
   "metadata": {},
   "outputs": [],
   "source": [
    "#------------------------------#\n",
    "#    CORRECTION  ! ! ! ! ! !   #\n",
    "#------------------------------#\n",
    "def lancerPlusieursDes(n):\n",
    "    somme = 0 \n",
    "    i = 0\n",
    "    while i<n :\n",
    "        somme += lancerDe()\n",
    "        i+=1\n",
    "    return somme\n",
    "\n",
    "print(\"Lancer de deux dés : \" , lancerPlusieursDes(2));\n",
    "print(\"Lancer de trois dés : \" , lancerPlusieursDes(3));"
   ]
  },
  {
   "cell_type": "markdown",
   "metadata": {},
   "source": [
    "### Question 3 : Lancer de dés à $n$ faces \n",
    "Certains dés ont un nombre de faces différent de 6, comme certains dés utilisés pour les jeux de rôles. \n",
    "Ecrire une fonction `lancerDe2` prenant en paramètre le nombre de faces du dé et simulant un lancer de ce dé.\n",
    "Utiliser cette fonction pour faire 10 000 lancers de dés à 7 faces et afficher la moyenne de ces 10 000 lancers."
   ]
  },
  {
   "cell_type": "code",
   "execution_count": null,
   "metadata": {},
   "outputs": [],
   "source": [
    "def lancerDe2(nbFaces):\n",
    "    return randint(1,nbFaces)\n",
    "\n",
    "i=0\n",
    "somme = 0 \n",
    "while i<10000 :\n",
    "    somme += lancerDe2(7)\n",
    "    i+=1\n",
    "print(somme/10000) # La moyenne théorique est 4"
   ]
  },
  {
   "cell_type": "markdown",
   "metadata": {},
   "source": [
    "### Question 4 : Lancer d'un nombre quelconque de dés de même nombre de faces \n",
    "Ecrire une fonction qui simule le lancer d'un nombre quelconque de dés donné en paramètre, tous les dés ayant le même nombre de faces (également donné en paramètre), et renvoie leur somme. Utiliser cette fonction pour afficher le résultat de 10 000 lancers d'un dé à 7 faces."
   ]
  },
  {
   "cell_type": "code",
   "execution_count": null,
   "metadata": {},
   "outputs": [],
   "source": [
    "def lancerPlusieursDes2(n,nbF) :\n",
    "    somme = 0 \n",
    "    i = 0\n",
    "    while i<n :\n",
    "        somme += lancerDe2(nbF)\n",
    "        i+=1\n",
    "        \n",
    "    return somme\n",
    "\n",
    "print(\"Lancer de 10 000 dés à 7 faces : \" , lancerPlusieursDes2(10000,7))"
   ]
  },
  {
   "cell_type": "markdown",
   "metadata": {},
   "source": [
    "## Exercice 2 : Soldes aléatoires**\n",
    "Pour les soldes, un magasin propose une formule originale. Lors du paiement en caisse, une réduction de 30, 50 ou 70\\% est appliquée sur le montant total. Le taux de réduction est choisi aléatoirement. \n",
    "\n",
    "### Question 1 Ecrire une fonction `taux()` retournant 30, 50 ou 70, la valeur étant choisie aléatoirement."
   ]
  },
  {
   "cell_type": "code",
   "execution_count": null,
   "metadata": {},
   "outputs": [],
   "source": [
    "def taux():\n",
    "    de=randint(1,3)  #on tire un entier entre 1 et 3\n",
    "    if (de==1):\n",
    "        reduction=30\n",
    "    elif (de==2):\n",
    "        reduction=50\n",
    "    else :\n",
    "        reduction =70  \n",
    "    return reduction\n",
    "\n",
    "print(taux())"
   ]
  },
  {
   "cell_type": "markdown",
   "metadata": {},
   "source": [
    "### Question 2 : Prix à payer après réduction \n",
    "Ecrire le programme principal permettant de déterminer le prix à payer après la réduction. Le prix sera saisi par l'utilisateur et la réduction choisie aléatoirement."
   ]
  },
  {
   "cell_type": "code",
   "execution_count": null,
   "metadata": {},
   "outputs": [],
   "source": [
    "print(\"Prix ? \")\n",
    "prix =float(input()) \n",
    "reduction = taux()\n",
    "print(\"Bravo, vous avez obtenu un taux de \" , reduction, \"% de réduction, le prix de votre commande est \", \n",
    "      prix*(100-reduction) / 100 , \" euros.\")"
   ]
  },
  {
   "cell_type": "markdown",
   "metadata": {},
   "source": [
    "## Exercice 3 : Nombre mystère**\n",
    "\n",
    "Le nombre mystère est un jeu où l'utilisateur doit trouver un nombre entier aléatoire compris entre 1 et 100 inclus en au plus 6 essais (7 essais sont toujours suffisants). A chaque essai, le programme répond en indiquant si le nombre à déterminer est plus petit ou plus grand que la valeur saisie par l'utilisateur. Ecrire un programme permettant de jouer à ce jeu."
   ]
  },
  {
   "cell_type": "code",
   "execution_count": null,
   "metadata": {},
   "outputs": [],
   "source": [
    "nombreAleatoire = randint(1,100)\n",
    "nombre = -1\n",
    "tentative = 0\n",
    "while ( nombre!=nombreAleatoire and tentative <6 ):\n",
    "    tentative +=1\n",
    "    print(\"Saisissez un nombre entre 1 et 100: \")\n",
    "    nombre=int(input())   \n",
    "    if (nombre < nombreAleatoire):\n",
    "        print(\"Le nombre magique est plus grand\")\n",
    "    elif (nombre > nombreAleatoire):\n",
    "        print(\"Le nombre magique est plus petit\")\n",
    "\n",
    "if (nombre==nombreAleatoire): \n",
    "        print(\"Vous avez trouvé le nombre magique en \" , tentative , \" coups\")\n",
    "else :\n",
    "        print(\"Perdu, la bonne réponse était\", nombreAleatoire)"
   ]
  }
 ],
 "metadata": {
  "kernelspec": {
   "display_name": "Python 3",
   "language": "python",
   "name": "python3"
  },
  "language_info": {
   "codemirror_mode": {
    "name": "ipython",
    "version": 3
   },
   "file_extension": ".py",
   "mimetype": "text/x-python",
   "name": "python",
   "nbconvert_exporter": "python",
   "pygments_lexer": "ipython3",
   "version": "3.6.4"
  }
 },
 "nbformat": 4,
 "nbformat_minor": 2
}
