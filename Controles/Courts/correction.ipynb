{
 "cells": [
  {
   "cell_type": "markdown",
   "metadata": {},
   "source": [
    "# <center> Controle Court 2018 (Corrigé) </center>"
   ]
  },
  {
   "cell_type": "markdown",
   "metadata": {},
   "source": [
    "## Exercice 1 ; Boucles (2 points)\n",
    "\n",
    "Qu'affichent les programmes suivants pour  `i=1` ? Et pour `i=10`?\n",
    "On sera aussi précis que possible."
   ]
  },
  {
   "cell_type": "code",
   "execution_count": null,
   "metadata": {},
   "outputs": [],
   "source": [
    "#i=10\n",
    "i=1\n",
    "while (i%2==0 and i<10) :\n",
    "    print(i)\n",
    "    i+=1"
   ]
  },
  {
   "cell_type": "markdown",
   "metadata": {},
   "source": [
    "**CORRECTION**\n",
    "* pour `i=1`: aucun affichage - la condition du `while` est fausse  \n",
    "* pour `i=10`: aucun affichage -  la condition du `while` est fausse"
   ]
  },
  {
   "cell_type": "code",
   "execution_count": null,
   "metadata": {},
   "outputs": [],
   "source": [
    "#i=10\n",
    "i=1\n",
    "while (i%2==0 or i<10) :\n",
    "    print(i)\n",
    "    i+=1"
   ]
  },
  {
   "cell_type": "markdown",
   "metadata": {},
   "source": [
    "**CORRECTION**\n",
    "* pour `i=1`: tous les entiers de 1 à 10\n",
    "* pour `i=10` : seul 10  est affiché "
   ]
  },
  {
   "cell_type": "markdown",
   "metadata": {},
   "source": [
    "## Exercice 2 : Conjecture de Syracuse (4.5 points)\n",
    "\n",
    "On définit une fonction qui prend en paramètre en entrée un entier $n$ et\n",
    "* le divise par 2, s'il est pair, \n",
    "* le multiplie par 3 et ajoute 1, s'il est impair\n",
    "et recommence le même traitement avec l'entier obtenu à moins que celui-ci\n",
    "soit égal à 1.\n",
    "\n",
    "On considèrera que la suite de valeurs ainsi définie atteint toujours l'entier $1$ bien que\n",
    "l'on ne sache pas le prouver mathématiquement. Aucun contre-exemple n'a\n",
    "été trouvé à ce jour. \n",
    "\n",
    "### Question 1 :\n",
    "Pour n =5, donner les valeurs obtenues à chaque itération  en précisant\n",
    "le nombre total d'itérations."
   ]
  },
  {
   "cell_type": "markdown",
   "metadata": {},
   "source": [
    "**CORRECTION**\n",
    "5-16-8-4-2-1\n",
    "5 itérations \n",
    "\n",
    "### Question 2 :\n",
    "Faites de même pour $n=26$.\n",
    "\n",
    "**CORRECTION**\n",
    "26-13-40-20-10-5-16-8-4-2-1\n",
    "10 itérations \n",
    "\n",
    "### Question 3 : \n",
    "Écrire une fonction \\lst{syracuse} qui prend en paramètre en entrée un entier `n` et  affiche les différentes\n",
    "valeurs obtenues au cours du calcul ainsi que le nombre total d'itérations."
   ]
  },
  {
   "cell_type": "code",
   "execution_count": null,
   "metadata": {},
   "outputs": [],
   "source": [
    "#------------------------------#\n",
    "#    CORRECTION  ! ! ! ! ! !   #\n",
    "#------------------------------#\n",
    "def syracuse(n):\n",
    "    print(n)\n",
    "    nb_iterations = 0\n",
    "    while (n>1) :\n",
    "        if (n%2==0):\n",
    "            n=n//2\n",
    "        else : \n",
    "            n=3*n+1\n",
    "        print(n)\n",
    "        nb_iterations+=1\n",
    "    print(\"le nombre d'iterations est\", nb_iterations)   "
   ]
  },
  {
   "cell_type": "markdown",
   "metadata": {},
   "source": [
    "### Question 4 : \n",
    "Écrire un programme principal qui demande à l'utilisateur de saisir un entier et affiche les valeurs de la suite engendrée par cet entier ainsi que le nombre d'itérations nécessaires pour atteindre $1$. On pourra utiliser la fonction définie à la question précédente."
   ]
  },
  {
   "cell_type": "code",
   "execution_count": null,
   "metadata": {},
   "outputs": [],
   "source": [
    "#------------------------------#\n",
    "#    CORRECTION  ! ! ! ! ! !   #\n",
    "#------------------------------#\n",
    "print(\"donner un entier\")\n",
    "n=int(input())\n",
    "syracuse(n)"
   ]
  },
  {
   "cell_type": "markdown",
   "metadata": {},
   "source": [
    "## Exercice 3 : Facturation de vente en semi-gros (3.5 points)\n",
    "Le but de cet exercice est de calculer le montant facturé\n",
    "par une entreprise vendant des morues en semi-gros à ses clients. Le\n",
    "tarif est dégressif :\n",
    "* Les $100$ premiers kilos de morue sont facturés $0,80$ €  le kilo.\n",
    "* Du $101$ème au $300$ème kilo, chaque kilo de morue est facturé\n",
    "$0,70$ €.\n",
    "* À partir du $301$ème kilo, chaque kilo de morue est facturé $0,60$ €.\n",
    "\n",
    "Ainsi, le coût de 150 kilos est de $115$ € ($100 * 0.80 + 50 * 0.70=115$).\n",
    "On veillera à ne pas faire de tests inutiles.\n",
    "\n",
    "### Question 1 :\n",
    "Écrire une fonction calcule et retourne le coût en fonction du nombre de kilos de morue  passé en paramètre."
   ]
  },
  {
   "cell_type": "code",
   "execution_count": null,
   "metadata": {},
   "outputs": [],
   "source": [
    "#------------------------------#\n",
    "#    CORRECTION  ! ! ! ! ! !   #\n",
    "#------------------------------#\n",
    "def facture(nbKilos):\n",
    "    prix = 0\n",
    "    if (nbKilos <= 100):\n",
    "        prix = 0.80*nbKilos\n",
    "    elif (nbKilos <=300):\n",
    "        prix = 0.80*100 + 0.70 * (nbKilos-100)\n",
    "    else:\n",
    "        prix = 0.80*100 + 0.70*200 +  0.60 * (nbKilos-300)\n",
    "    return prix"
   ]
  },
  {
   "cell_type": "markdown",
   "metadata": {},
   "source": [
    "### Question 2 :\n",
    "Utiliser cette fonction dans un programme  qui demande à l'utilisateur de saisir\n",
    "un nombre de kilos de morue et affiche le coût facturé."
   ]
  },
  {
   "cell_type": "code",
   "execution_count": null,
   "metadata": {},
   "outputs": [],
   "source": [
    "#------------------------------#\n",
    "#    CORRECTION  ! ! ! ! ! !   #\n",
    "#------------------------------#\n",
    "print(\"donner un entier\")\n",
    "n=float(input())\n",
    "print(facture(n))"
   ]
  },
  {
   "cell_type": "markdown",
   "metadata": {},
   "source": [
    "## Exercice 4 : Visibilité d'une variable (2.5 points)\n",
    "On considère le code suivant."
   ]
  },
  {
   "cell_type": "code",
   "execution_count": null,
   "metadata": {},
   "outputs": [],
   "source": [
    "def tmp(i):\n",
    "    while (i < 4):\n",
    "        print(\"bonjour\")\n",
    "        i+=1\n",
    "    return 2*i\n",
    "\n",
    "i = 0\n",
    "j = 0\n",
    "while (i < 7):\n",
    "    tmp(i)\n",
    "    i+=1\n",
    "j = tmp(i)"
   ]
  },
  {
   "cell_type": "markdown",
   "metadata": {},
   "source": [
    "* Combien de fois la fonction `tmp` est-elle appelée ?\n",
    "\n",
    "**CORRECTION** :\n",
    " 8 fois \n",
    " \n",
    "* Combien de fois s'affiche `bonjour` ?\n",
    "\n",
    "**CORRECTION** : \n",
    "  10 fois\n",
    "  \n",
    "* Combien vaut `j` à la fin du programme ?\n",
    "\n",
    "**CORRECTION** :\n",
    "  `j`vaut  14"
   ]
  },
  {
   "cell_type": "markdown",
   "metadata": {},
   "source": [
    "## Exercice 5 : Dessin aléatoire (7.5 points)\n",
    "\n",
    "Le but de cet exercice est de faire dessiner l'ordinateur de manière aléatoire. Le dessin ne comportera que les caractères `=` et `/`. Vous pouvez utiliser une fonction définie à une question donnée même si vous n'avez pas répondu à cette question.\n",
    "\n",
    "### Question 1 :\n",
    "\n",
    "Définir la fonction `afficherNfois` prenant en paramètre en entrée un caractère `c` et un entier `n` et retournant une chaîne de caractères formées  `n` fois  le caractère `c`. On utilisera **obligatoirement** une boucle pour construire cette chaîne de caractères.\n",
    "\n",
    "Écrire un programme appelant cette fonction pour afficher une chaine formée de 5 fois un caractère de votre choix."
   ]
  },
  {
   "cell_type": "code",
   "execution_count": null,
   "metadata": {},
   "outputs": [],
   "source": [
    "def afficheCarNfois(c,n):\n",
    "    s=\"\"\n",
    "    i = 0 \n",
    "    while (i < n):\n",
    "        s+=c\n",
    "        i+=1\n",
    "    return s\n",
    "\n",
    "print(afficheCarNfois('C',5))"
   ]
  },
  {
   "cell_type": "markdown",
   "metadata": {},
   "source": [
    "### Question 2 :\n",
    "\n",
    "Définir la fonction `afficheLigneAlea` prenant en paramètre en entrée un entier `nb` et affichant une ligne de  `nb` caractères.\n",
    "\n",
    "Cette ligne de caractères est constituée d'un nombre aléatoire (entre 1 et 10 inclus) de fois le symbole `/`, suivi d'un nombre aléatoire (entre 1 et 10 inclus) de fois le symbole `=`, en recommençant ensuite cette alternance aussi souvent que nécessaire. La fonction doit afficher **exactement `nb`** caractères et donc cesser d'ajouter des caractères à la chaîne à afficher dès que ce nombre est atteint.\n",
    "\n",
    "**Rappel** : La fonction `randint(a,b)` permet d'engendrer un entier aléatoire compris  entre $a$ (inclus) et $b$ (inclus), où `a` et `b` sont des paramètres à valeurs entières. Cette fonction se trouve dans la bibliothèque `random`.\n",
    "\n",
    "L'exécution de cette fonction avec comme valeur de paramètre `30`  peut donner l'affichage suivant (les nombres aléatoires tirés sont 5-2-3-5-4-1-7-3) :\n",
    "```\n",
    "/////==///=====////=///////===\n",
    "```"
   ]
  },
  {
   "cell_type": "code",
   "execution_count": null,
   "metadata": {},
   "outputs": [],
   "source": [
    "from random import *\n",
    "\n",
    "def afficheLigneAlea(nb):\n",
    "    ligne=\"\"\n",
    "    c = '/'\n",
    "    nbRestants = nb\n",
    "    while (nbRestants > 0):\n",
    "        n = randint(1,10)\n",
    "        if (n > nbRestants):\n",
    "            n = nbRestants\n",
    "        ligne+=afficheCarNfois(c, n)\n",
    "        if (c == '/'):\n",
    "            c = '='\n",
    "        else:\n",
    "            c = '/'\n",
    "        nbRestants -= n\n",
    "    print(ligne)\n",
    "\n",
    "afficheLigneAlea(40)"
   ]
  },
  {
   "cell_type": "markdown",
   "metadata": {},
   "source": [
    "### Question 3 :\n",
    "\n",
    "Définir la fonction `dessinAleatoire` prenant en paramètres un nombre de lignes et un nombre de colonnes et engendrant un dessin aléatoire. Chaque ligne du dessin pourra être fabriquée grâce à la fonction définie à la question précédente.\n",
    "\n",
    "Utiliser cette fonction pour dessiner un dessin aléatoire de 30 lignes et 40 colonnes."
   ]
  },
  {
   "cell_type": "code",
   "execution_count": null,
   "metadata": {},
   "outputs": [],
   "source": [
    "def dessinAleatoire(nbL, nbCol):\n",
    "    i = 0\n",
    "    while (i < nbL):\n",
    "        afficheLigneAlea(nbCol)\n",
    "        i+=1\n",
    "\n",
    "dessinAleatoire(30,40)"
   ]
  }
 ],
 "metadata": {
  "kernelspec": {
   "display_name": "Python 3",
   "language": "python",
   "name": "python3"
  },
  "language_info": {
   "codemirror_mode": {
    "name": "ipython",
    "version": 3
   },
   "file_extension": ".py",
   "mimetype": "text/x-python",
   "name": "python",
   "nbconvert_exporter": "python",
   "pygments_lexer": "ipython3",
   "version": "3.6.4"
  }
 },
 "nbformat": 4,
 "nbformat_minor": 2
}
