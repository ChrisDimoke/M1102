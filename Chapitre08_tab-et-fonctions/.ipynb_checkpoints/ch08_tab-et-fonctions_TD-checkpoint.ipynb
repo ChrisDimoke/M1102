{
 "cells": [
  {
   "cell_type": "markdown",
   "metadata": {},
   "source": [
    "# <center> Chapitre 8 : Tableaux et fonctions - TD </center>"
   ]
  },
  {
   "cell_type": "markdown",
   "metadata": {},
   "source": [
    "## Test de compréhension\n",
    "\n",
    "### Indices pairs et impairs\n",
    "\n",
    "- Écrire une fonction qui prend un tableau et affiche les éléments d'indice pair.\n",
    "- Idem avec indice impair."
   ]
  },
  {
   "cell_type": "markdown",
   "metadata": {},
   "source": [
    "### À l'envers\n",
    "\n",
    "Écrire une fonction qui affiche un tableau à l'envers."
   ]
  },
  {
   "cell_type": "markdown",
   "metadata": {},
   "source": [
    "### Moyenne\n",
    "\n",
    "- Écrire une fonction qui calcule la moyenne d'un tableau de nombres\n",
    "- Traiter le cas du tableau vide"
   ]
  },
  {
   "cell_type": "markdown",
   "metadata": {},
   "source": [
    "### Saisie\n",
    "\n",
    "- Écrire une fonction qui sauve dans un tableau des entiers saisis entre 0 et 20.\n",
    "  La saisie s'arrête au premier nombre invalide et le tableau est renvoyé.\n",
    "- En calculer la moyenne grâce à la fonction précédente."
   ]
  },
  {
   "cell_type": "markdown",
   "metadata": {},
   "source": [
    "## Test d'égalité\n",
    "\n",
    "Écrire une fonction qui teste si tous les éléments d'un tableau sont égaux."
   ]
  },
  {
   "cell_type": "markdown",
   "metadata": {},
   "source": [
    "## Recherche\n",
    "\n",
    "Écrire une fonction qui teste si un élément `x` fait partie du tableau."
   ]
  },
  {
   "cell_type": "markdown",
   "metadata": {},
   "source": [
    "## Recherche 2\n",
    "\n",
    "Écrire une fonction qui prend deux tableaux et teste si tous les éléments\n",
    "de l'un apparaissent dans l'autre."
   ]
  },
  {
   "cell_type": "markdown",
   "metadata": {},
   "source": [
    "## Comptage\n",
    "\n",
    "Écrire une fonction qui compte les occurrences d'un élément `x`."
   ]
  },
  {
   "cell_type": "markdown",
   "metadata": {},
   "source": [
    "## Substitution\n",
    "\n",
    "Écrire une fonction qui remplace les occurrences de `x` par `y`."
   ]
  },
  {
   "cell_type": "markdown",
   "metadata": {},
   "source": [
    "## Tri relatif\n",
    "\n",
    "Écrire une fonction qui renvoie le nombre d'éléments inférieurs à leur successeur dans un tableau d'entiers."
   ]
  }
 ],
 "metadata": {
  "kernelspec": {
   "display_name": "Python 3",
   "language": "python",
   "name": "python3"
  },
  "language_info": {
   "codemirror_mode": {
    "name": "ipython",
    "version": 3
   },
   "file_extension": ".py",
   "mimetype": "text/x-python",
   "name": "python",
   "nbconvert_exporter": "python",
   "pygments_lexer": "ipython3",
   "version": "3.6.6"
  },
  "toc": {
   "base_numbering": 1,
   "nav_menu": {},
   "number_sections": true,
   "sideBar": true,
   "skip_h1_title": false,
   "title_cell": "Table of Contents",
   "title_sidebar": "Contents",
   "toc_cell": false,
   "toc_position": {},
   "toc_section_display": true,
   "toc_window_display": false
  }
 },
 "nbformat": 4,
 "nbformat_minor": 2
}
