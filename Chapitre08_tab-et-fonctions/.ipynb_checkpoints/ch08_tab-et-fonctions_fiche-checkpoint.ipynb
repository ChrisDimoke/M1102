{
 "cells": [
  {
   "cell_type": "markdown",
   "metadata": {},
   "source": [
    "# <center> Chapitre 8 : Tableaux et fonctions </center>"
   ]
  },
  {
   "cell_type": "markdown",
   "metadata": {},
   "source": [
    "## Syntaxe\n",
    "\n",
    "Une fonction peut prendre un tableau en paramètre. Cela permet\n",
    "permet d'appliquer une même procédure à plusieurs tableaux. <br>\n",
    "Exemple :"
   ]
  },
  {
   "cell_type": "code",
   "execution_count": 1,
   "metadata": {},
   "outputs": [
    {
     "name": "stdout",
     "output_type": "stream",
     "text": [
      "premier élément : 34\n"
     ]
    }
   ],
   "source": [
    "def premier(tab):\n",
    "    print(\"premier élément : \" + str(tab[0]))\n",
    "    \n",
    "t = [34, 22, 6, 70]\n",
    "premier(t)"
   ]
  },
  {
   "cell_type": "markdown",
   "metadata": {},
   "source": [
    "Une fonction peut aussi renvoyer un tableau :"
   ]
  },
  {
   "cell_type": "code",
   "execution_count": 2,
   "metadata": {},
   "outputs": [
    {
     "name": "stdout",
     "output_type": "stream",
     "text": [
      "[1, 2, 3, 4]\n"
     ]
    }
   ],
   "source": [
    "def cree_tab():\n",
    "    t = [1,2,3]\n",
    "    t.append(4)\n",
    "    return t\n",
    "\n",
    "t = cree_tab()\n",
    "print(t)"
   ]
  },
  {
   "cell_type": "markdown",
   "metadata": {},
   "source": [
    "## Fonctions avec parcours\n",
    "\n",
    "Très souvent les fonctions parcourent le tableau avec une boucle. <br>\n",
    "Par exemple pour calculer une somme :"
   ]
  },
  {
   "cell_type": "code",
   "execution_count": 3,
   "metadata": {},
   "outputs": [
    {
     "name": "stdout",
     "output_type": "stream",
     "text": [
      "[1, 2, 3, 4]\n",
      "10\n"
     ]
    }
   ],
   "source": [
    "def somme_tab(t):\n",
    "    somme = 0\n",
    "    i=0\n",
    "    while i < len(t):\n",
    "        somme += t[i]\n",
    "        i+=1\n",
    "    return somme\n",
    "        \n",
    "print(t)\n",
    "print(somme_tab(t))"
   ]
  },
  {
   "cell_type": "markdown",
   "metadata": {},
   "source": [
    "ou modifier le tableau :"
   ]
  },
  {
   "cell_type": "code",
   "execution_count": 4,
   "metadata": {},
   "outputs": [
    {
     "name": "stdout",
     "output_type": "stream",
     "text": [
      "[0, 0, 0]\n"
     ]
    }
   ],
   "source": [
    "def mise_a_zero(t):\n",
    "    i=0\n",
    "    while i < len(t):\n",
    "        t[i] = 0\n",
    "        i+=1\n",
    "        \n",
    "t = [1,1,1]\n",
    "mise_a_zero(t)\n",
    "print(t)"
   ]
  },
  {
   "cell_type": "markdown",
   "metadata": {},
   "source": [
    "Une affectation du tableau entier ne marche pas, car crée une variable\n",
    "locale, détruite au retour de la fonction :"
   ]
  },
  {
   "cell_type": "code",
   "execution_count": 5,
   "metadata": {},
   "outputs": [
    {
     "name": "stdout",
     "output_type": "stream",
     "text": [
      "avant l'appel : [1, 1, 1]\n",
      "local : [0, 0, 0]\n",
      "après l'appel : [1, 1, 1]\n"
     ]
    }
   ],
   "source": [
    "def affectation(t):\n",
    "    t = [0,0,0]\n",
    "    print(\"local : \" + str(t))\n",
    "    \n",
    "t = [1,1,1]\n",
    "print(\"avant l'appel : \" + str(t))\n",
    "affectation(t)\n",
    "print(\"après l'appel : \" + str(t))"
   ]
  },
  {
   "cell_type": "markdown",
   "metadata": {},
   "source": [
    "Le tableau passé en paramètre n'est donc pas modifié."
   ]
  }
 ],
 "metadata": {
  "kernelspec": {
   "display_name": "Python 3",
   "language": "python",
   "name": "python3"
  },
  "language_info": {
   "codemirror_mode": {
    "name": "ipython",
    "version": 3
   },
   "file_extension": ".py",
   "mimetype": "text/x-python",
   "name": "python",
   "nbconvert_exporter": "python",
   "pygments_lexer": "ipython3",
   "version": "3.6.6"
  },
  "toc": {
   "base_numbering": 1,
   "nav_menu": {},
   "number_sections": true,
   "sideBar": true,
   "skip_h1_title": false,
   "title_cell": "Table of Contents",
   "title_sidebar": "Contents",
   "toc_cell": false,
   "toc_position": {},
   "toc_section_display": true,
   "toc_window_display": false
  }
 },
 "nbformat": 4,
 "nbformat_minor": 2
}
