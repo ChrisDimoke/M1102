{
 "cells": [
  {
   "cell_type": "markdown",
   "metadata": {},
   "source": [
    "# <center> Chapitre 8 : Tableaux et fonctions -- TP corrigé </center>"
   ]
  },
  {
   "cell_type": "markdown",
   "metadata": {},
   "source": [
    "## Somme alternée\n",
    "\n",
    "Écrire une fonction qui prend un tableau de nombres et calcule\n",
    "la somme des éléments d'indice pair moins la somme des éléments\n",
    "d'indice impair."
   ]
  },
  {
   "cell_type": "code",
   "execution_count": 1,
   "metadata": {},
   "outputs": [
    {
     "name": "stdout",
     "output_type": "stream",
     "text": [
      "-2\n"
     ]
    }
   ],
   "source": [
    "def somme_alt(t):\n",
    "    somme = 0\n",
    "    i=0\n",
    "    while i < len(t):\n",
    "        if i%2 == 0:\n",
    "            somme += t[i]\n",
    "        else:\n",
    "            somme -= t[i]\n",
    "        i+=1\n",
    "    return somme\n",
    "\n",
    "print(somme_alt([1,2,3,4]))"
   ]
  },
  {
   "cell_type": "markdown",
   "metadata": {},
   "source": [
    "## Tableau trié\n",
    "\n",
    "Écrire une fonction qui teste si un tableau est trié dans l'ordre croissant."
   ]
  },
  {
   "cell_type": "code",
   "execution_count": 2,
   "metadata": {},
   "outputs": [
    {
     "name": "stdout",
     "output_type": "stream",
     "text": [
      "True\n"
     ]
    }
   ],
   "source": [
    "def est_trie(t):\n",
    "    i=0\n",
    "    while i < len(t)-1:\n",
    "        if t[i] > t[i+1]:\n",
    "            return False\n",
    "        i+=1\n",
    "    return True\n",
    "\n",
    "print(est_trie([1,2,3,4]))"
   ]
  },
  {
   "cell_type": "markdown",
   "metadata": {},
   "source": [
    "## Déplacement\n",
    "\n",
    "On dira qu'un tableau est presque trié s'il est trié sauf le dernier élément. <br>\n",
    "Écrire une fonction qui insère ce dernier à la bonne place pour finir le tri."
   ]
  },
  {
   "cell_type": "code",
   "execution_count": 3,
   "metadata": {},
   "outputs": [
    {
     "name": "stdout",
     "output_type": "stream",
     "text": [
      "[1, 2, 3, 4, 7]\n"
     ]
    }
   ],
   "source": [
    "def replace_der(t):\n",
    "    tmp = t[len(t)-1]\n",
    "    i = len(t)-2\n",
    "    while i >= 0 and t[i] > tmp:\n",
    "        t[i+1] = t[i]\n",
    "        i-=1\n",
    "    t[i+1] = tmp\n",
    "    \n",
    "t = [1,3,4,7,2]\n",
    "replace_der(t)\n",
    "print(t)"
   ]
  },
  {
   "cell_type": "markdown",
   "metadata": {},
   "source": [
    "## Tri progressif\n",
    "\n",
    "- Écrire une fonction qui renvoie un tableau de taille `n`\n",
    "  (paramètre) contenant des entiers aléatoires entre 1 et 100.\n",
    "- On remarque qu'à chaque fois qu'on ajoute à un élément à un\n",
    "  tableau trié, le résultat est presque trié. <br>\n",
    "  Modifier la fonction précédente en déplaçant le dernier élément\n",
    "  ajouté, pour obtenir un tableau trié."
   ]
  },
  {
   "cell_type": "code",
   "execution_count": 4,
   "metadata": {},
   "outputs": [
    {
     "data": {
      "text/plain": [
       "[35, 76, 99, 38, 18, 11, 38, 39, 7, 13]"
      ]
     },
     "execution_count": 4,
     "metadata": {},
     "output_type": "execute_result"
    }
   ],
   "source": [
    "from random import *\n",
    "\n",
    "def tabalea(n):\n",
    "    t=[]\n",
    "    i=0\n",
    "    while i<n:\n",
    "        t.append(randint(1,100))\n",
    "#        replace_der(t)\n",
    "        i+=1\n",
    "    return t\n",
    "\n",
    "tabalea(10)"
   ]
  },
  {
   "cell_type": "markdown",
   "metadata": {},
   "source": [
    "## Tri de chaînes\n",
    "\n",
    "- S'inspirer de l'exercice précédent pour obtenir un tableau trié\n",
    "  dans l'ordre alphabétique de noms lus dans un fichier.\n",
    "- Modifier la fonction de déplacement pour trier les noms selon leur longueur."
   ]
  },
  {
   "cell_type": "code",
   "execution_count": 5,
   "metadata": {},
   "outputs": [
    {
     "data": {
      "text/plain": [
       "['averell', 'jack', 'joe', 'ma', 'william']"
      ]
     },
     "execution_count": 5,
     "metadata": {},
     "output_type": "execute_result"
    }
   ],
   "source": [
    "def tri_noms():\n",
    "    t=[]\n",
    "    f = open(\"noms.txt\")\n",
    "    nom = f.readline()\n",
    "    while nom.strip() != \"\" :\n",
    "        t.append(nom.strip())\n",
    "        replace_der(t)\n",
    "#        replace_der_lg(t)\n",
    "        nom = f.readline()\n",
    "    f.close()\n",
    "    return t\n",
    "\n",
    "def replace_der_lg(t):\n",
    "    tmp = t[len(t)-1]\n",
    "    i = len(t)-2\n",
    "#   while i >= 0 and t[i] > tmp\n",
    "    while i >= 0 and len(t[i]) > len(tmp):\n",
    "        t[i+1] = t[i]\n",
    "        i-=1\n",
    "    t[i+1] = tmp\n",
    "    \n",
    "tri_noms()"
   ]
  },
  {
   "cell_type": "markdown",
   "metadata": {},
   "source": [
    "## Répétition\n",
    "\n",
    "- Écrire une fonction qui teste s'il existe un élément qui apparaît\n",
    "deux fois dans un tableau trié.\n",
    "- Serait-ce aussi simple avec un tableau non trié ?"
   ]
  },
  {
   "cell_type": "code",
   "execution_count": 6,
   "metadata": {},
   "outputs": [
    {
     "name": "stdout",
     "output_type": "stream",
     "text": [
      "True\n"
     ]
    }
   ],
   "source": [
    "def repetition(t):\n",
    "    i=0\n",
    "    while i < len(t)-1:\n",
    "        if t[i] == t[i+1]:\n",
    "            return True\n",
    "        i+=1\n",
    "    return False\n",
    "\n",
    "print(repetition([1,3,3]))"
   ]
  },
  {
   "cell_type": "markdown",
   "metadata": {},
   "source": [
    "Non, il faudrait tester tous les couples d'éléments et pas seulement les voisins.\n",
    "Ce qui prendrait beaucoup plus de temps."
   ]
  },
  {
   "cell_type": "markdown",
   "metadata": {},
   "source": [
    "## Écritures\n",
    "\n",
    "- Écrire une fonction qui parcourt un tableau de gauche à droite\n",
    "et le modifie de la manière suivante : <br>\n",
    "les premier et dernier éléments sont inchangés, les autres valent\n",
    "la moyenne des éléments voisins.\n",
    "- Faire le parcours de droite à gauche et expliquer pourquoi les\n",
    "résultats sont différents."
   ]
  },
  {
   "cell_type": "code",
   "execution_count": 7,
   "metadata": {},
   "outputs": [
    {
     "name": "stdout",
     "output_type": "stream",
     "text": [
      "[20, 43.0, 43.5, 67.75, 53.875, 40]\n"
     ]
    }
   ],
   "source": [
    "def moy(t):\n",
    "    i = 1\n",
    "    while i < len(t)-1:\n",
    "        t[i] = (t[i-1] + t[i+1])/2\n",
    "        i+=1\n",
    "        \n",
    "def yom(t):\n",
    "    i = len(t) - 2\n",
    "    while i > 0:\n",
    "        t[i] = (t[i-1] + t[i+1])/2\n",
    "        i-=1\n",
    "        \n",
    "t = [20, 12, 66, 44, 92, 40]\n",
    "moy(t)\n",
    "#yom(t)\n",
    "print(t)"
   ]
  },
  {
   "cell_type": "markdown",
   "metadata": {},
   "source": [
    "On lit des éléments modifiés en cours de calcul (celui de gauche\n",
    "dans le premier cas, celui de droite dans le second)."
   ]
  }
 ],
 "metadata": {
  "kernelspec": {
   "display_name": "Python 3",
   "language": "python",
   "name": "python3"
  },
  "language_info": {
   "codemirror_mode": {
    "name": "ipython",
    "version": 3
   },
   "file_extension": ".py",
   "mimetype": "text/x-python",
   "name": "python",
   "nbconvert_exporter": "python",
   "pygments_lexer": "ipython3",
   "version": "3.6.6"
  },
  "toc": {
   "base_numbering": 1,
   "nav_menu": {},
   "number_sections": true,
   "sideBar": true,
   "skip_h1_title": false,
   "title_cell": "Table of Contents",
   "title_sidebar": "Contents",
   "toc_cell": false,
   "toc_position": {},
   "toc_section_display": true,
   "toc_window_display": false
  }
 },
 "nbformat": 4,
 "nbformat_minor": 2
}
