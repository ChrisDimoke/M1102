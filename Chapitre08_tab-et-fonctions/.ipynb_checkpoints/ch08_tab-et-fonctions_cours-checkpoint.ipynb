{
 "cells": [
  {
   "cell_type": "markdown",
   "metadata": {},
   "source": [
    "# <center> Chapitre 8 : Tableaux et fonctions </center>"
   ]
  },
  {
   "cell_type": "markdown",
   "metadata": {},
   "source": [
    "## Tableau en paramètre\n",
    "\n",
    "Une fonction peut prendre un tableau en paramètre. Cela permet\n",
    "permet d'appliquer une même procédure à plusieurs tableaux.\n",
    "Par exemple"
   ]
  },
  {
   "cell_type": "code",
   "execution_count": null,
   "metadata": {},
   "outputs": [],
   "source": [
    "def affiche_premier(tab):\n",
    "    print(\"Premier élément : \" + str(tab[0]))\n",
    "    \n",
    "t = [\"oui\", \"non\", \"peut-être\"]\n",
    "t2 = [34, 22, 6, 70]\n",
    "\n",
    "affiche_premier(t)\n",
    "affiche_premier(t2)"
   ]
  },
  {
   "cell_type": "markdown",
   "metadata": {},
   "source": [
    "**Remarque :** passer un tableau vide à cette fonction provoque une\n",
    "erreur `out of range` car on lit un élément inexistant. <br>\n",
    "On peut aussi écrire son propre message d'erreur dans ce cas :"
   ]
  },
  {
   "cell_type": "code",
   "execution_count": null,
   "metadata": {},
   "outputs": [],
   "source": [
    "def affiche_premier(tab):\n",
    "    if len(tab) == 0:              # teste si le tableau est vide\n",
    "        print(\"Désolé, le tableau est vide !\")\n",
    "    else:\n",
    "        print(\"premier élément : \" + str(tab[0]))\n",
    "        \n",
    "t = []\n",
    "affiche_premier(t)"
   ]
  },
  {
   "cell_type": "markdown",
   "metadata": {},
   "source": [
    "## Tableau en valeur de retour\n",
    "\n",
    "Une fonction peut aussi renvoyer un tableau :"
   ]
  },
  {
   "cell_type": "code",
   "execution_count": null,
   "metadata": {},
   "outputs": [],
   "source": [
    "from random import *\n",
    "\n",
    "def tab_alea():\n",
    "    t = []\n",
    "    t.append(randint(1,20))\n",
    "    t.append(randint(1,100))\n",
    "    t.append(random())\n",
    "    return t\n",
    "\n",
    "t = tab_alea()\n",
    "print(t)"
   ]
  },
  {
   "cell_type": "markdown",
   "metadata": {},
   "source": [
    "## Fonctions avec parcours\n",
    "\n",
    "Parcourir les tableaux va permettre des procédures plus intéressantes.\n",
    "On va donc mettre les boucles de parcours du chapitre précédent dans\n",
    "des fonctions. Par exemple, pour afficher des éléments avec des tirets :"
   ]
  },
  {
   "cell_type": "code",
   "execution_count": null,
   "metadata": {},
   "outputs": [],
   "source": [
    "def affiche_tirets(t):\n",
    "    i=0\n",
    "    while i < len(t):\n",
    "        print (\" - \" + str(t[i]))\n",
    "        i+=1\n",
    "        \n",
    "t = [\"oui\", \"non\", \"peut-être\"]\n",
    "t = [34, 22, 6, 70]\n",
    "affiche_tirets(t)"
   ]
  },
  {
   "cell_type": "markdown",
   "metadata": {},
   "source": [
    "Faire la somme des éléments :"
   ]
  },
  {
   "cell_type": "code",
   "execution_count": null,
   "metadata": {},
   "outputs": [],
   "source": [
    "def somme_tab(t):\n",
    "    somme = 0\n",
    "    i=0\n",
    "    while i < len(t):\n",
    "        somme += t[i]\n",
    "        i+=1\n",
    "    return somme\n",
    "        \n",
    "print(t)\n",
    "print(somme_tab(t))"
   ]
  },
  {
   "cell_type": "markdown",
   "metadata": {},
   "source": [
    "Ajouter une valeur `val` à tous les éléments du tableau :"
   ]
  },
  {
   "cell_type": "code",
   "execution_count": null,
   "metadata": {},
   "outputs": [],
   "source": [
    "def ajoute(t,val):\n",
    "    i=0\n",
    "    while i < len(t):\n",
    "        t[i] += val\n",
    "        i+=1\n",
    "\n",
    "t = [12,34,45]\n",
    "ajoute(t, 10)\n",
    "print(t)"
   ]
  },
  {
   "cell_type": "markdown",
   "metadata": {},
   "source": [
    "On constate que la fonction a ici modifié le tableau passé en paramètre. <br>\n",
    "Autre exemple de modification, ajouter un élément en \n",
    "avant-dernière position :"
   ]
  },
  {
   "cell_type": "code",
   "execution_count": null,
   "metadata": {},
   "outputs": [],
   "source": [
    "def insere_avant_dernier(t, elt):\n",
    "    n = len(t)\n",
    "    tmp = t[n-1]\n",
    "    t[n-1] = elt\n",
    "    t.append(tmp)\n",
    "    \n",
    "insere_avant_dernier(t, \"et\")\n",
    "print(t)"
   ]
  },
  {
   "cell_type": "markdown",
   "metadata": {},
   "source": [
    "## Modification et affectation\n",
    "\n",
    "Pour modifier un tableau, il faut affecter les éléments un à un :"
   ]
  },
  {
   "cell_type": "code",
   "execution_count": null,
   "metadata": {},
   "outputs": [],
   "source": [
    "def mise_a_zero(t):\n",
    "    i=0\n",
    "    while i < len(t):\n",
    "        t[i] = 0\n",
    "        i+=1\n",
    "        \n",
    "t = [1,1,1]\n",
    "mise_a_zero(t)\n",
    "print(t)"
   ]
  },
  {
   "cell_type": "markdown",
   "metadata": {},
   "source": [
    "Une affectation du tableau entier ne marche pas, car crée une variable\n",
    "locale, détruite au retour de la fonction :"
   ]
  },
  {
   "cell_type": "code",
   "execution_count": null,
   "metadata": {},
   "outputs": [],
   "source": [
    "def affectation(t):\n",
    "    t = [0,0,0]\n",
    "    print(\"local : \" + str(t))\n",
    "    \n",
    "t = [1,1,1]\n",
    "print(\"avant l'appel : \" + str(t))\n",
    "affectation(t)\n",
    "print(\"après l'appel : \" + str(t))"
   ]
  },
  {
   "cell_type": "markdown",
   "metadata": {},
   "source": [
    "Le tableau passé en paramètre n'est donc pas modifié."
   ]
  }
 ],
 "metadata": {
  "kernelspec": {
   "display_name": "Python 3",
   "language": "python",
   "name": "python3"
  },
  "language_info": {
   "codemirror_mode": {
    "name": "ipython",
    "version": 3
   },
   "file_extension": ".py",
   "mimetype": "text/x-python",
   "name": "python",
   "nbconvert_exporter": "python",
   "pygments_lexer": "ipython3",
   "version": "3.6.6"
  },
  "toc": {
   "base_numbering": 1,
   "nav_menu": {},
   "number_sections": true,
   "sideBar": true,
   "skip_h1_title": false,
   "title_cell": "Table of Contents",
   "title_sidebar": "Contents",
   "toc_cell": false,
   "toc_position": {},
   "toc_section_display": true,
   "toc_window_display": false
  }
 },
 "nbformat": 4,
 "nbformat_minor": 2
}
