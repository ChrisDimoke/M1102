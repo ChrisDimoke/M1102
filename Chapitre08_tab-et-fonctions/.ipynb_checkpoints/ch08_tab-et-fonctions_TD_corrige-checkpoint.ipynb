{
 "cells": [
  {
   "cell_type": "markdown",
   "metadata": {},
   "source": [
    "# <center> Chapitre 8 : Tableaux et fonctions - TD corrigé </center>"
   ]
  },
  {
   "cell_type": "markdown",
   "metadata": {},
   "source": [
    "## Test de compréhension\n",
    "\n",
    "### Indices pairs et impairs\n",
    "\n",
    "- Écrire une fonction qui prend un tableau et affiche les éléments d'indice pair.\n",
    "- Idem avec indice impair."
   ]
  },
  {
   "cell_type": "code",
   "execution_count": 2,
   "metadata": {},
   "outputs": [
    {
     "name": "stdout",
     "output_type": "stream",
     "text": [
      "5\n",
      "15\n",
      "25\n",
      "10\n",
      "20\n"
     ]
    }
   ],
   "source": [
    "def affiche_pairs(t):\n",
    "    i=0\n",
    "    while i < len(t):\n",
    "        if i%2 == 0:\n",
    "            print(t[i])\n",
    "        i+=1\n",
    "        \n",
    "def affiche_impairs(t):\n",
    "    i=0\n",
    "    while i < len(t):\n",
    "        if i%2 != 0:\n",
    "            print(t[i])\n",
    "        i+=1\n",
    "        \n",
    "t = [5,10,15,20,25]\n",
    "affiche_pairs(t)\n",
    "affiche_impairs(t)"
   ]
  },
  {
   "cell_type": "markdown",
   "metadata": {},
   "source": [
    "### À l'envers\n",
    "\n",
    "Écrire une fonction qui affiche un tableau à l'envers."
   ]
  },
  {
   "cell_type": "code",
   "execution_count": 3,
   "metadata": {
    "hideCode": true
   },
   "outputs": [
    {
     "name": "stdout",
     "output_type": "stream",
     "text": [
      "25\n",
      "20\n",
      "15\n",
      "10\n",
      "5\n"
     ]
    }
   ],
   "source": [
    "def envers(t):\n",
    "    i = len(t) - 1\n",
    "    while i >= 0:\n",
    "        print(t[i])\n",
    "        i-=1\n",
    "    \n",
    "envers(t)"
   ]
  },
  {
   "cell_type": "markdown",
   "metadata": {},
   "source": [
    "### Moyenne\n",
    "\n",
    "- Écrire une fonction qui calcule la moyenne d'un tableau de nombres\n",
    "- Traiter le cas du tableau vide"
   ]
  },
  {
   "cell_type": "code",
   "execution_count": 4,
   "metadata": {},
   "outputs": [
    {
     "name": "stdout",
     "output_type": "stream",
     "text": [
      "pas de données\n",
      "None\n"
     ]
    }
   ],
   "source": [
    "def moyenne(t):\n",
    "    if len(t) == 0:\n",
    "        print(\"pas de données\")\n",
    "        return \n",
    "    somme = 0\n",
    "    i=0\n",
    "    while i < len(t):\n",
    "        somme += t[i]\n",
    "        i+=1\n",
    "    return somme/len(t)\n",
    "\n",
    "print(moyenne([]))"
   ]
  },
  {
   "cell_type": "markdown",
   "metadata": {},
   "source": [
    "### Saisie\n",
    "\n",
    "- Écrire une fonction qui sauve dans un tableau des entiers saisis entre 0 et 20.\n",
    "  La saisie s'arrête au premier nombre invalide et le tableau est renvoyé.\n",
    "- En calculer la moyenne grâce à la fonction précédente."
   ]
  },
  {
   "cell_type": "code",
   "execution_count": 12,
   "metadata": {
    "hideCode": true
   },
   "outputs": [
    {
     "name": "stdout",
     "output_type": "stream",
     "text": [
      "entrez un nombre 1\n",
      "entrez un nombre 2\n",
      "entrez un nombre 3\n",
      "entrez un nombre 56\n",
      "moyenne 2.0\n"
     ]
    }
   ],
   "source": [
    "def saisie():\n",
    "    t=[]\n",
    "    nb = int(input(\"entrez un nombre \"))\n",
    "    while nb >=0 and nb <=20:\n",
    "        t.append(nb)\n",
    "        nb = int(input(\"entrez un nombre \"))\n",
    "    return t\n",
    "\n",
    "t = saisie()\n",
    "print(\"moyenne \" + str(moyenne(t)))"
   ]
  },
  {
   "cell_type": "markdown",
   "metadata": {},
   "source": [
    "## Test d'égalité\n",
    "\n",
    "Écrire une fonction qui teste si tous les éléments d'un tableau sont égaux."
   ]
  },
  {
   "cell_type": "code",
   "execution_count": 6,
   "metadata": {},
   "outputs": [
    {
     "name": "stdout",
     "output_type": "stream",
     "text": [
      "True\n"
     ]
    }
   ],
   "source": [
    "def tous_egaux(t):\n",
    "    i=1\n",
    "    while i < len(t):\n",
    "        if t[i] != t[0]:\n",
    "            return False\n",
    "        i+=1\n",
    "    return True\n",
    "\n",
    "print(tous_egaux([1,1,1]))"
   ]
  },
  {
   "cell_type": "markdown",
   "metadata": {},
   "source": [
    "## Recherche\n",
    "\n",
    "Écrire une fonction qui teste si un élément `x` fait partie du tableau."
   ]
  },
  {
   "cell_type": "code",
   "execution_count": 7,
   "metadata": {},
   "outputs": [
    {
     "name": "stdout",
     "output_type": "stream",
     "text": [
      "True\n"
     ]
    }
   ],
   "source": [
    "def recherche(x,t):\n",
    "    i=0\n",
    "    while i < len(t):\n",
    "        if t[i] == x:\n",
    "            return True\n",
    "        i+=1\n",
    "    return False\n",
    "\n",
    "print(recherche(3, [1,2,3]))"
   ]
  },
  {
   "cell_type": "markdown",
   "metadata": {},
   "source": [
    "## Recherche 2\n",
    "\n",
    "Écrire une fonction qui prend deux tableaux et teste si tous les éléments du premier tableau apparaissent dans le deuxième tableau."
   ]
  },
  {
   "cell_type": "code",
   "execution_count": 8,
   "metadata": {},
   "outputs": [
    {
     "name": "stdout",
     "output_type": "stream",
     "text": [
      "True\n"
     ]
    }
   ],
   "source": [
    "def rech2(t,t2):\n",
    "    i=0\n",
    "    while i < len(t):\n",
    "        if not recherche(t[i], t2):\n",
    "            return False\n",
    "        i+=1\n",
    "    return True\n",
    "\n",
    "print(rech2([1,2], [1,2,3]))"
   ]
  },
  {
   "cell_type": "markdown",
   "metadata": {},
   "source": [
    "## Comptage\n",
    "\n",
    "Écrire une fonction qui compte les occurrences d'un élément `x`."
   ]
  },
  {
   "cell_type": "code",
   "execution_count": 9,
   "metadata": {
    "hideCode": true
   },
   "outputs": [
    {
     "name": "stdout",
     "output_type": "stream",
     "text": [
      "2\n"
     ]
    }
   ],
   "source": [
    "def compte(x,t):\n",
    "    succes = 0\n",
    "    i=0\n",
    "    while i < len(t):\n",
    "        if t[i] == x:\n",
    "            succes += 1\n",
    "        i+=1\n",
    "    return succes\n",
    "\n",
    "print(compte(7, [1,7,3,7]))"
   ]
  },
  {
   "cell_type": "markdown",
   "metadata": {},
   "source": [
    "## Substitution\n",
    "\n",
    "Écrire une fonction qui remplace les occurrences de `x` par `y`."
   ]
  },
  {
   "cell_type": "code",
   "execution_count": 10,
   "metadata": {},
   "outputs": [
    {
     "name": "stdout",
     "output_type": "stream",
     "text": [
      "[1, 8, 3, 8]\n"
     ]
    }
   ],
   "source": [
    "def remplace(x,y,t):\n",
    "    i=0\n",
    "    while i < len(t):\n",
    "        if t[i] == x:\n",
    "            t[i] = y\n",
    "        i+=1\n",
    "        \n",
    "t = [1,7,3,7]\n",
    "remplace(7,8,t)\n",
    "print(t)"
   ]
  },
  {
   "cell_type": "markdown",
   "metadata": {},
   "source": [
    "## Élements relativement triés\n",
    "\n",
    "Écrire une fonction qui renvoie le nombre d'éléments inférieurs à leur successeur dans un tableau d'entiers."
   ]
  },
  {
   "cell_type": "code",
   "execution_count": 11,
   "metadata": {},
   "outputs": [
    {
     "name": "stdout",
     "output_type": "stream",
     "text": [
      "2\n"
     ]
    }
   ],
   "source": [
    "def rel_tries(t):\n",
    "    succes = 0\n",
    "    i=0\n",
    "    while i < len(t)-1:\n",
    "        if t[i] <= t[i+1]:\n",
    "            succes += 1\n",
    "        i+=1\n",
    "    return succes\n",
    "\n",
    "print(rel_tries([1,3,2,4]))"
   ]
  }
 ],
 "metadata": {
  "kernelspec": {
   "display_name": "Python 3",
   "language": "python",
   "name": "python3"
  },
  "language_info": {
   "codemirror_mode": {
    "name": "ipython",
    "version": 3
   },
   "file_extension": ".py",
   "mimetype": "text/x-python",
   "name": "python",
   "nbconvert_exporter": "python",
   "pygments_lexer": "ipython3",
   "version": "3.6.6"
  },
  "toc": {
   "base_numbering": 1,
   "nav_menu": {},
   "number_sections": true,
   "sideBar": true,
   "skip_h1_title": false,
   "title_cell": "Table of Contents",
   "title_sidebar": "Contents",
   "toc_cell": false,
   "toc_position": {},
   "toc_section_display": true,
   "toc_window_display": false
  }
 },
 "nbformat": 4,
 "nbformat_minor": 2
}
