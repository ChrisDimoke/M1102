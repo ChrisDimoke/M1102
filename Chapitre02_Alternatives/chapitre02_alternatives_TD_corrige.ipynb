{
 "cells": [
  {
   "cell_type": "markdown",
   "metadata": {
    "collapsed": true
   },
   "source": [
    "# <center>Chapitre 2 : Alternatives - TD corrigé</center>"
   ]
  },
  {
   "cell_type": "markdown",
   "metadata": {},
   "source": [
    "## Exercice 1 : Trace de programme*"
   ]
  },
  {
   "cell_type": "markdown",
   "metadata": {},
   "source": [
    "Donner la trace du programme, c'est-à-dire donner l'affichage obtenu lors de l'exécution du programme."
   ]
  },
  {
   "cell_type": "code",
   "execution_count": null,
   "metadata": {},
   "outputs": [],
   "source": [
    "x = 12\n",
    "print(x > 12)\n",
    "print(x < 11 or (x > 40 and x < 100))\n",
    "print(x != 9)\n",
    "test = not(x > 10 and x <= 12) and x%2 == 0\n",
    "print(test)\n",
    "test = x>=10 and test\n",
    "print(test)\n",
    "test = not(test)\n",
    "print(test)\n",
    "test = not(test)\n",
    "print(test)"
   ]
  },
  {
   "cell_type": "markdown",
   "metadata": {},
   "source": [
    "## Exercice 2 : Affichage d'un test**\n",
    "1. Écrire un programme demandant à l'utilisateur de saisir un nombre entier. Si ce nombre est pair et positif ou s'il est impair et compris entre 5 (inclus) et 25 (inclus), alors le programme affiche `True`. Dans le cas contraire, le programme affiche `False`.\n",
    "** Rappel :** Il existe un opérateur appelé *modulo* dont le symbole est `%` qui permet de calculer le reste de la division euclidienne.  Par exemple, `3%2` vaut `1`.\n",
    "\n",
    "2. Donner un jeu d'essai  (4 tests significatifs) et prévoir les résultats."
   ]
  },
  {
   "cell_type": "code",
   "execution_count": null,
   "metadata": {},
   "outputs": [],
   "source": [
    "#------------------------------#\n",
    "#    CORRECTION  ! ! ! ! ! !   #\n",
    "#------------------------------#\n",
    "entier = int(input())\n",
    "print( (entier%2==0 and entier > 0) or (entier%2==1 and entier>=5 and entier <=25))\n",
    "\n",
    "# Jeux d'essai : \n",
    "#  4 => affiche True car 4 est pair et supérieur à 0\n",
    "# -4 => affiche False car -4 est pair mais pas positif\n",
    "#  3 => affiche False car 3 est impair mais n'est pas compris entre 5 et 25\n",
    "#  9 => affiche True car 9 est impair est compris entre 5 et 25"
   ]
  },
  {
   "cell_type": "markdown",
   "metadata": {},
   "source": [
    "## Exercice 3 : Valeur absolue d'un nombre*\n",
    "Écrire un programme demandant à l'utilisateur de saisir un nombre et affichant la valeur absolue de ce nombre.\n",
    "\n",
    "** Rappel :** La valeur absolue d'un nombre est sa valeur numérique sans son signe. Par exemple, la valeur absolue de -4 et de +4 est 4. Pour représenter la valeur absolue, on utilise la notation |…|. Ainsi, on écrit : |–4| = |+4| = 4.\n"
   ]
  },
  {
   "cell_type": "code",
   "execution_count": null,
   "metadata": {},
   "outputs": [],
   "source": [
    "#------------------------------#\n",
    "#    CORRECTION  ! ! ! ! ! !   #\n",
    "#------------------------------#\n",
    "print(\"Affichage de la valeur absolue\")\n",
    "print(\"Entrez un nombre :\")\n",
    "a = float(input())\n",
    "\n",
    "if a<0:\n",
    "    res = -a\n",
    "else:\n",
    "    res=a\n",
    "    \n",
    "print(\"|\"+str(a)+\"| = \"+ str(res))"
   ]
  },
  {
   "cell_type": "markdown",
   "metadata": {},
   "source": [
    "## Exercice 4 : Le jeu des différences*\n",
    "\n",
    "Quelle différence y a-t-il entre les deux programmes suivants ?"
   ]
  },
  {
   "cell_type": "code",
   "execution_count": null,
   "metadata": {},
   "outputs": [],
   "source": [
    "A=5<2\n",
    "if A:\n",
    "   print(\"V\")\n",
    "else:\n",
    "   print(\"F\")"
   ]
  },
  {
   "cell_type": "code",
   "execution_count": null,
   "metadata": {},
   "outputs": [],
   "source": [
    "A=5<2\n",
    "if A == True:\n",
    "   print(\"V\")\n",
    "if A==False:\n",
    "   print(\"F\")"
   ]
  },
  {
   "cell_type": "markdown",
   "metadata": {},
   "source": [
    "** CORRECTION : **\n",
    "\n",
    "Les deux programmes produisent le même résultat mais il y a 3 tests élémentaires supplémentaires dans le second programme."
   ]
  },
  {
   "cell_type": "markdown",
   "metadata": {},
   "source": [
    "## Exercice 5 : Questions sur le `if`*\n",
    "\n",
    "### Question 1 : Indentation\n",
    "Qu'est-ce qu'une *indentation* ? Quel est l'intérêt d'une indentation ?\n",
    "\n",
    "### Question 2 : Else\n",
    "Le `else` est-il obligatoire après un `if` ? Après un  `if/elif` ?"
   ]
  },
  {
   "cell_type": "markdown",
   "metadata": {},
   "source": [
    "### Question 3 : Imbrication de `if`\n",
    "\n",
    "\n",
    "Dans le programme suivant quelles instructions dépendent du premier `if` ? du deuxième `if` ?"
   ]
  },
  {
   "cell_type": "code",
   "execution_count": null,
   "metadata": {},
   "outputs": [],
   "source": [
    "print(1)\n",
    "if A>2:\n",
    "   print(2)\n",
    "   if B>=A:\n",
    "       print(3)\n",
    "   print(4)\n",
    "print(5)"
   ]
  },
  {
   "cell_type": "markdown",
   "metadata": {},
   "source": [
    "Qu'affiche le programme dans les différents cas suivants ?\n",
    "\n",
    "* quand `A = 1` et `B = 6`,\n",
    "* quand `A = 4` et `B = 5`,\n",
    "* quand `A = 3` et `B = 0`."
   ]
  },
  {
   "cell_type": "markdown",
   "metadata": {},
   "source": [
    "**CORRECTION : **\n",
    "\n",
    "* Espaces insérés avant une instruction. L'indentation permet de définir un bloc d'instructions, associé par exemple à un `if`.\n",
    "* Le `else` n'est obligatoire dans aucun des deux cas. On le met uniquement s'il y a des instructions à exécuter dans le cas où la condition (toutes les conditions si on a des elif) est fausse.\n",
    "* Les lignes 3 à 6 forment le bloc d'instructions du premier `if` et la ligne 5 forme le bloc d'instructions du deuxième `if`.\n",
    "  \n",
    "  Affichage obtenus suivants les différentes valeurs de `A` et `B` : \n",
    "  *  15\n",
    "  * 12345\n",
    "  * 1245"
   ]
  },
  {
   "cell_type": "markdown",
   "metadata": {},
   "source": [
    "## Exercice 6 : Alternatives élémentaires*"
   ]
  },
  {
   "cell_type": "markdown",
   "metadata": {},
   "source": [
    "Pour quelle(s) valeur(s) de `A` l'instruction `print(\"B\")` est-elle executée dans chacun des quatre codes ?"
   ]
  },
  {
   "cell_type": "code",
   "execution_count": null,
   "metadata": {},
   "outputs": [],
   "source": [
    "if A > 10:\n",
    "   print(\"A\")\n",
    "else:\n",
    "   print(\"B\")"
   ]
  },
  {
   "cell_type": "code",
   "execution_count": null,
   "metadata": {},
   "outputs": [],
   "source": [
    "if A > 10:\n",
    "   print(\"A\")\n",
    "elif A > 200:\n",
    "   print(\"B\")"
   ]
  },
  {
   "cell_type": "code",
   "execution_count": null,
   "metadata": {},
   "outputs": [],
   "source": [
    "if A > 10:\n",
    "   print(\"A\")\n",
    "if A > 200:\n",
    "   print(\"B\")"
   ]
  },
  {
   "cell_type": "code",
   "execution_count": null,
   "metadata": {},
   "outputs": [],
   "source": [
    "if A > 10 and A < 10:\n",
    "   print(\"A\")\n",
    "else:\n",
    "   print(\"B\")"
   ]
  },
  {
   "cell_type": "markdown",
   "metadata": {},
   "source": [
    "** CORRECTION : **\n",
    "\n",
    "* si `A` <= 10\n",
    "* jamais car `A` > 200 n'est jamais vrai si `A` <= 10 (première condition fausse)\n",
    "* Si `A` > 200\n",
    "* Pour n'importe quelle valeur (le test est toujours faux)"
   ]
  },
  {
   "cell_type": "markdown",
   "metadata": {},
   "source": [
    "Pour quelle(s) valeur(s) de `A` l'instruction `print(\"C\")` est-elle executée ?"
   ]
  },
  {
   "cell_type": "code",
   "execution_count": null,
   "metadata": {},
   "outputs": [],
   "source": [
    "if A < 100:\n",
    "   print(\"A\")\n",
    "elif A>=100:\n",
    "   print(\"B\")\n",
    "else:\n",
    "   print(\"C\")"
   ]
  },
  {
   "cell_type": "markdown",
   "metadata": {},
   "source": [
    "** CORRECTION :**\n",
    "\n",
    "Jamais car l'une des deux conditions est toujours vraie"
   ]
  },
  {
   "cell_type": "markdown",
   "metadata": {},
   "source": [
    "## Exercice 7 : Réduction du nombre de tests**\n",
    "\n",
    "Peut-on réduire le nombre de tests dans le programme suivant ? Si oui, comment ?"
   ]
  },
  {
   "cell_type": "code",
   "execution_count": null,
   "metadata": {},
   "outputs": [],
   "source": [
    "A=float(input())\n",
    "if A <= 10:\n",
    "   print(\"A\")\n",
    "elif A> 10  and A <= 50:\n",
    "   print(\"B\")\n",
    "elif A> 50  and A < 100:\n",
    "   print(\"C\")\n",
    "elif A >=100:\n",
    "   print(\"D\")"
   ]
  },
  {
   "cell_type": "code",
   "execution_count": null,
   "metadata": {},
   "outputs": [],
   "source": [
    "#------------------------------#\n",
    "#    CORRECTION  ! ! ! ! ! !   #\n",
    "#------------------------------#\n",
    "A=float(input())\n",
    "if A <= 10:\n",
    "   print(\"A\")\n",
    "elif A <= 50:\n",
    "   print(\"B\")\n",
    "elif  A < 100:\n",
    "   print(\"C\")\n",
    "else :\n",
    "   print(\"D\")"
   ]
  },
  {
   "cell_type": "markdown",
   "metadata": {},
   "source": [
    "## Exercice 8 : Différence de deux nombres**\n",
    "\n",
    "Écrire un algorithme qui demande deux nombres entiers à l'utilisateur et calcule la différence du plus grand nombre avec le plus petit nombre, quel que soit l'ordre de saisie."
   ]
  },
  {
   "cell_type": "code",
   "execution_count": null,
   "metadata": {},
   "outputs": [],
   "source": [
    "#------------------------------#\n",
    "#    CORRECTION  ! ! ! ! ! !   #\n",
    "#------------------------------#\n",
    "print('Entrez le premier entier')\n",
    "entier1 = int(input())\n",
    "print('Entrez le deuxieme entier')\n",
    "entier2 = int(input())\n",
    "\n",
    "if entier1>entier2:\n",
    "    resultat = entier1-entier2\n",
    "else:\n",
    "    resultat = entier2-entier1\n",
    "\n",
    "print('La difference entre les deux entiers est ' + str(resultat))"
   ]
  },
  {
   "cell_type": "markdown",
   "metadata": {},
   "source": [
    "## Exercice 9 : Calcul de gabarit**\n",
    "\n",
    "On définit le `gabarit` d'un objet en fonction de sa `taille`.  Le `gabarit` peut prendre les valeurs `\"Grand\"`, `\"Moyen\"` ou `\"Petit\"` (qui sont des chaînes de caractères) selon que la `taille`, qui est un nombre entier, est respectivement supérieure ou égale à 10, comprise entre 4 (inclus) et 10 (non inclus) ou strictement inférieure à 4.\n",
    "\n",
    "Écrire un programme qui demande à l'utilisateur la taille d'un objet et affiche après l'avoir déterminé le garabit correspondant. On s'attachera à ne pas faire de test inutile."
   ]
  },
  {
   "cell_type": "code",
   "execution_count": null,
   "metadata": {},
   "outputs": [],
   "source": [
    "#------------------------------#\n",
    "#    CORRECTION  ! ! ! ! ! !   #\n",
    "#------------------------------#\n",
    "print(\"quelle est la taille de l'objet ?\")\n",
    "taille=int(input())\n",
    "\n",
    "if taille < 4:\n",
    "    gabarit = \"Petit\"\n",
    "elif taille < 10 :\n",
    "    gabarit = \"Moyen\"\n",
    "else :\n",
    "    gabarit = \"Grand\"\n",
    "print(\"le gabarit est \"+ gabarit) "
   ]
  },
  {
   "cell_type": "markdown",
   "metadata": {},
   "source": [
    "## Exercice 10 : Tri de trois nombres***\n",
    "\n",
    "Écrire un algorithme qui déclare 3 variables `a`, `b` et `c` initialisées avec 3 nombres entiers saisis par l'utilisateur. L'algorithme devra ensuite modifier les valeurs de `a`, `b` et `c` pour que `a` contienne la plus petite valeur saisie, `c` la plus grande valeur saisie et `b` la troisième valeur. L'algorithme affichera ensuite les valeurs de la plus petite à la plus grande."
   ]
  },
  {
   "cell_type": "code",
   "execution_count": null,
   "metadata": {},
   "outputs": [],
   "source": [
    "#------------------------------#\n",
    "#    CORRECTION  ! ! ! ! ! !   #\n",
    "#------------------------------#\n",
    "print('Tri de 3 nombres a,b et c par ordre croissant')\n",
    "\n",
    "print('Donnez la valeur de a')\n",
    "a = int(input())\n",
    "print('Donnez la valeur de b')\n",
    "b=int(input())\n",
    "print('Donnez la valeur de c')\n",
    "c= int(input())\n",
    "\n",
    "if a>b:\n",
    "    tmp = a        \n",
    "    a=b\n",
    "    b=tmp        \n",
    "\n",
    "if b>c:\n",
    "    tmp = c\n",
    "    c=b\n",
    "    b=tmp           \n",
    "    if a>b:\n",
    "        tmp = a\n",
    "        a=b\n",
    "        b=tmp\n",
    "print('a='+str(a)+' b='+str(b)+' c='+str(c))"
   ]
  },
  {
   "cell_type": "markdown",
   "metadata": {},
   "source": [
    "## Exercice 11 : Racines d'un polynôme du second degré**\n",
    "\n",
    "Écrire un algorithme qui calcule et affiche les racines réelles d'un polynôme du second degré. \n",
    "**NB : ** Ce sont les racines réelles de l'équation $ax^2 + bx + c = 0$\n",
    "\n",
    "Prendre soin de bien analyser le problème et de savoir ce qui est très précisément demandé pour répertorier les données du problème.\n",
    "\n",
    "** Remarque : ** Le calcul des racines nécessite de calculer la racine carrée d'un nombre. En python, on obtient la racine carrée d'un nombre `x` grâce à l'appel `math.sqrt(x)`. Il faut auparavent avoir importé le module `math` grâce à l'instruction `import math`."
   ]
  },
  {
   "cell_type": "code",
   "execution_count": null,
   "metadata": {},
   "outputs": [],
   "source": [
    "#------------------------------#\n",
    "#    CORRECTION  ! ! ! ! ! !   #\n",
    "#------------------------------#\n",
    "import math\n",
    "print(\"Calcul des racines reelles de a*x*x+b*x+c=0\")\n",
    "\n",
    "print(\"Donnez la valeur de a\")\n",
    "a = int(input())\n",
    "print(\"Donnez la valeur de b\")\n",
    "b=int(input())\n",
    "print(\"Donnez la valeur de c\")\n",
    "c= int(input())\n",
    "\n",
    "\n",
    "#Distinction des cas\n",
    "if a==0 and  b==0 and c==0:    # 0x = 0\n",
    "    print(\"Tout réel est une solution de cette équation\")\n",
    "elif  a==0 and b==0:           # Contradiction: c # 0 et c = 0\n",
    "     print(\"Cette équation ne possède pas de solutions.\") \n",
    "elif a==0:                    #bx + c = 0\n",
    "    print(\"La solution de cette équation du premier degré est :\")\n",
    "    print( \"x = \" + str(-c/b))\n",
    "else :\n",
    "    d = b*b-4*a*c\n",
    "    if d<0:      # b^2-4ac < 0 \n",
    "        print(\"Cette équation n'a pas de solutions réelles.\")\n",
    "    elif d==0:   # b^2-4ac = 0 \n",
    "        print(\"Cette équation a une solution double réelle :\")\n",
    "        print(\" x =  \" + str(-b/(2*a)));\n",
    "    else:        # b^2-4ac > 0\n",
    "        print(\"Deux solutions réelles :\")\n",
    "        print(\" x1 = \" + str((-b-math.sqrt(d))/(2*a)))\n",
    "        print(\" x2 =\"  + str((-b+math.sqrt(d))/(2*a)))"
   ]
  }
 ],
 "metadata": {
  "kernelspec": {
   "display_name": "Python 3",
   "language": "python",
   "name": "python3"
  },
  "language_info": {
   "codemirror_mode": {
    "name": "ipython",
    "version": 3
   },
   "file_extension": ".py",
   "mimetype": "text/x-python",
   "name": "python",
   "nbconvert_exporter": "python",
   "pygments_lexer": "ipython3",
   "version": "3.6.4"
  }
 },
 "nbformat": 4,
 "nbformat_minor": 2
}
